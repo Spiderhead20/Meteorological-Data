{
 "cells": [
  {
   "cell_type": "code",
   "execution_count": 1,
   "metadata": {},
   "outputs": [],
   "source": [
    "from tkinter import *\n",
    "from PIL import ImageTk, Image\n",
    "import numpy as np\n",
    "import pandas as pd\n",
    "import datetime\n",
    "import json\n",
    "import requests\n",
    "import matplotlib.pyplot as plt \n",
    "import matplotlib.dates as mdates\n",
    "from matplotlib.backends.backend_tkagg import FigureCanvasTkAgg, NavigationToolbar2Tk\n",
    "from matplotlib.figure import Figure\n",
    "from sklearn.svm import SVR\n",
    "from scipy.optimize import fsolve\n",
    "%matplotlib inline "
   ]
  },
  {
   "cell_type": "code",
   "execution_count": 2,
   "metadata": {},
   "outputs": [],
   "source": [
    "PueblaMet = pd.read_csv('Metadata/Puebla.csv')\n",
    "TolucaMet = pd.read_csv('Metadata/Toluca.csv')\n",
    "MoreliaMet = pd.read_csv('Metadata/Morelia.csv')\n",
    "QueretaroMet = pd.read_csv('Metadata/Queretaro.csv')\n",
    "MonterreyMet = pd.read_csv('Metadata/Monterrey.csv')\n",
    "GuadalajaraMet = pd.read_csv('Metadata/Guadalajara.csv')\n",
    "PachucaMet = pd.read_csv('Metadata/Pachuca.csv')\n",
    "LeonMet = pd.read_csv('Metadata/Leon.csv')\n",
    "ZacatecasMet = pd.read_csv('Metadata/Zacatecas.csv')\n",
    "TijuanaMet = pd.read_csv('Metadata/Tijuana.csv')"
   ]
  },
  {
   "cell_type": "code",
   "execution_count": 3,
   "metadata": {},
   "outputs": [],
   "source": [
    "del PueblaMet['Unnamed: 0']\n",
    "del TolucaMet['Unnamed: 0']\n",
    "del MoreliaMet['Unnamed: 0']\n",
    "del QueretaroMet['Unnamed: 0']\n",
    "del MonterreyMet['Unnamed: 0']\n",
    "del GuadalajaraMet['Unnamed: 0']\n",
    "del PachucaMet['Unnamed: 0']\n",
    "del LeonMet['Unnamed: 0']\n",
    "del ZacatecasMet['Unnamed: 0']\n",
    "del TijuanaMet['Unnamed: 0']"
   ]
  },
  {
   "cell_type": "code",
   "execution_count": 4,
   "metadata": {},
   "outputs": [],
   "source": [
    "PueblaMet['Distancia al mar (km)'] = 218\n",
    "TolucaMet['Distancia al mar (km)'] = 317\n",
    "MoreliaMet['Distancia al mar (km)'] = 220\n",
    "QueretaroMet['Distancia al mar (km)'] = 330\n",
    "MonterreyMet['Distancia al mar (km)'] = 290\n",
    "GuadalajaraMet['Distancia al mar (km)'] = 192\n",
    "PachucaMet['Distancia al mar (km)'] = 180\n",
    "LeonMet['Distancia al mar (km)'] = 378\n",
    "ZacatecasMet['Distancia al mar (km)'] = 317\n",
    "TijuanaMet['Distancia al mar (km)'] = 16\n",
    "PueblaMet['Hora'] = ['19.37', '20.48', '21.36', '22.02', '22.39', '23.03', '23.32', '23.53', '00.22', '07.05', '07.29', '08.06', '08.34', '10.26', '10.40']"
   ]
  },
  {
   "cell_type": "code",
   "execution_count": 5,
   "metadata": {},
   "outputs": [],
   "source": [
    "def city():\n",
    "    window = Toplevel(root)\n",
    "    figure = plt.Figure(figsize=(6,5), dpi=100)\n",
    "    ax = figure.add_subplot(111)\n",
    "    chart_type = FigureCanvasTkAgg(figure, window)\n",
    "    chart_type.get_tk_widget().pack()\n",
    "    y1 = PueblaMet['Temperatura'] \n",
    "    x1 = PueblaMet['Hora'] \n",
    "    y2 = GuadalajaraMet['Temperatura'] \n",
    "    y3 = TijuanaMet['Temperatura'] \n",
    "    y4 = MoreliaMet['Temperatura'] \n",
    "    y5 = LeonMet['Temperatura'] \n",
    "    y6 = MonterreyMet['Temperatura'] \n",
    "    y7 = QueretaroMet['Temperatura'] \n",
    "    y8 = PachucaMet['Temperatura'] \n",
    "    y9 = ZacatecasMet['Temperatura'] \n",
    "    #ax.plt.xticks(rotation = 70) \n",
    "    ax.plot(x1,y8,'g',x1,y2,'g',x1,y3,'g',x1,y1,'g')\n",
    "    ax.plot(x1,y4,'r',x1,y5,'r',x1,y6,'r',x1,y7,'r',x1,y9,'r')\n",
    "    #df.plot(kind='Chart Type such as bar', legend=True, ax=ax)\n",
    "    ax.set_title('Relación del clima con la distancia al mar.')"
   ]
  },
  {
   "cell_type": "code",
   "execution_count": 6,
   "metadata": {},
   "outputs": [],
   "source": [
    "def wind():\n",
    "    Met = var.get()    \n",
    "    if Met == 'Puebla':\n",
    "        setWind(PueblaMet,'Puebla')\n",
    "    if Met == 'Morelia':\n",
    "        setWind(MoreliaMet,'Morelia')\n",
    "    if Met == 'Queretaro':\n",
    "        setWind(QueretaroMet,'Queretaro')\n",
    "    if Met == 'Monterrey':\n",
    "        setWind(MonterreyMet,'Monterrey')\n",
    "    if Met == 'Guadalajara':\n",
    "        setWind(GuadalajaraMet,'Guadalajara')\n",
    "    if Met == 'Leon':\n",
    "        setWind(LeonMet,'Leon')\n",
    "    if Met == 'Pachuca':\n",
    "        setWind(PachucaMet,'Pachuca')\n",
    "    if Met == 'Zacatecas':\n",
    "        setWind(ZacatecasMet,'Zacatecas')\n",
    "    if Met == 'Tijuana':\n",
    "        setWind(TijuanaMet,'Tijuana')"
   ]
  },
  {
   "cell_type": "code",
   "execution_count": 7,
   "metadata": {},
   "outputs": [],
   "source": [
    "def temper():\n",
    "    Met = var.get()    \n",
    "    if Met == 'Puebla':\n",
    "        setTemp(PueblaMet,'Puebla')\n",
    "    if Met == 'Morelia':\n",
    "        setTemp(MoreliaMet,'Morelia')\n",
    "    if Met == 'Queretaro':\n",
    "        setTemp(QueretaroMet,'Queretaro')\n",
    "    if Met == 'Monterrey':\n",
    "        setTemp(MonterreyMet,'Monterrey')\n",
    "    if Met == 'Guadalajara':\n",
    "        setTemp(GuadalajaraMet,'Guadalajara')\n",
    "    if Met == 'Leon':\n",
    "        setTemp(LeonMet,'Leon')\n",
    "    if Met == 'Pachuca':\n",
    "        setTemp(PachucaMet,'Pachuca')\n",
    "    if Met == 'Zacatecas':\n",
    "        setTemp(ZacatecasMet,'Zacatecas')\n",
    "    if Met == 'Tijuana':\n",
    "        setTemp(TijuanaMet,'Tijuana')"
   ]
  },
  {
   "cell_type": "code",
   "execution_count": 8,
   "metadata": {},
   "outputs": [],
   "source": [
    "def hume():\n",
    "    Met = var.get()    \n",
    "    if Met == 'Puebla':\n",
    "        setHum(PueblaMet,'Puebla')\n",
    "    if Met == 'Morelia':\n",
    "        setHum(MoreliaMet,'Morelia')\n",
    "    if Met == 'Queretaro':\n",
    "        setHum(QueretaroMet,'Queretaro')\n",
    "    if Met == 'Monterrey':\n",
    "        setHum(MonterreyMet,'Monterrey')\n",
    "    if Met == 'Guadalajara':\n",
    "        setHum(GuadalajaraaMet,'Guadalajara')\n",
    "    if Met == 'Leon':\n",
    "        setHum(LeonMet,'Leon')\n",
    "    if Met == 'Pachuca':\n",
    "        setHum(PachucaMet,'Pachuca')\n",
    "    if Met == 'Zacatecas':\n",
    "        setHum(ZacatecasMet,'Zacatecas')\n",
    "    if Met == 'Tijuana':\n",
    "        setHum(TijuanaMet,'Tijuana')"
   ]
  },
  {
   "cell_type": "code",
   "execution_count": 9,
   "metadata": {},
   "outputs": [],
   "source": [
    "def setHum(ciudad, nombreCiudad):\n",
    "    window = Toplevel(root)\n",
    "    figure = plt.Figure(figsize=(6,5), dpi=100)\n",
    "    ax = figure.add_subplot(111)\n",
    "    chart_type = FigureCanvasTkAgg(figure, window)\n",
    "    chart_type.get_tk_widget().pack()\n",
    "    y1 = ciudad['Humedad'] \n",
    "    x1 = PueblaMet['Hora'] \n",
    "    #ax.plt.xticks(rotation = 70) \n",
    "    ax.plot(x1,y1,'b')\n",
    "    #df.plot(kind='Chart Type such as bar', legend=True, ax=ax)\n",
    "    wind = 'Humedad en '\n",
    "    tit = wind + nombreCiudad\n",
    "    ax.set_title(tit)"
   ]
  },
  {
   "cell_type": "code",
   "execution_count": 10,
   "metadata": {},
   "outputs": [],
   "source": [
    "def setTemp(ciudad, nombreCiudad):\n",
    "    window = Toplevel(root)\n",
    "    figure = plt.Figure(figsize=(6,5), dpi=100)\n",
    "    ax = figure.add_subplot(111)\n",
    "    chart_type = FigureCanvasTkAgg(figure, window)\n",
    "    chart_type.get_tk_widget().pack()\n",
    "    y1 = ciudad['Temperatura'] \n",
    "    x1 = PueblaMet['Hora'] \n",
    "    #ax.plt.xticks(rotation = 70) \n",
    "    ax.plot(x1,y1,'b')\n",
    "    #df.plot(kind='Chart Type such as bar', legend=True, ax=ax)\n",
    "    wind = 'Temperatura en '\n",
    "    tit = wind + nombreCiudad\n",
    "    ax.set_title(tit)"
   ]
  },
  {
   "cell_type": "code",
   "execution_count": 11,
   "metadata": {},
   "outputs": [],
   "source": [
    "def setWind(ciudad, nombreCiudad):\n",
    "    hist, bins = np.histogram(ciudad['Grados viento'],8,[0,360])   \n",
    "    N = 8   \n",
    "    theta = np.arange(0.,2 * np.pi, 2 * np.pi / N)   \n",
    "    radii = np.array(hist)   \n",
    "    plt.axes([0.025, 0.025, 0.95, 0.95], polar=True)   \n",
    "    colors = [(1-x/max(hist), 1-x/max(hist), 0.75) for x in radii]    \n",
    "    plt.bar(theta +np.pi/8, radii, width=(2*np.pi/N), bottom=0.0, color=colors)  \n",
    "    wind = 'Grados del viento en '\n",
    "    tit = wind + nombreCiudad\n",
    "    plt.title(tit,x=0.2, fontsize=20)\n",
    "    plt.savefig(\"Assets/polar.jpg\")\n",
    "    pic = \"Assets/polar.jpg\"\n",
    "    showGraph(tit, pic)"
   ]
  },
  {
   "cell_type": "code",
   "execution_count": 12,
   "metadata": {},
   "outputs": [],
   "source": [
    "def showGraph(message, pic):\n",
    "    window = Toplevel(root)\n",
    "    window.configure(background = 'white')\n",
    "    window.geometry('432x350')\n",
    "    title = Label(window, text = message, borderwidth = 0, bg = 'white')\n",
    "    title.pack()\n",
    "    Background = Image.open(\"Assets/blue.png\")\n",
    "    photoBG = ImageTk.PhotoImage(Background)\n",
    "    Graph = Image.open(pic)\n",
    "    photoG = ImageTk.PhotoImage(Graph)\n",
    "    icon = Label(window, image = photoG, borderwidth = 0)\n",
    "    icon.image = photoG\n",
    "    icon.pack()"
   ]
  },
  {
   "cell_type": "code",
   "execution_count": 13,
   "metadata": {},
   "outputs": [
    {
     "name": "stderr",
     "output_type": "stream",
     "text": [
      "C:\\Users\\david\\AppData\\Roaming\\Python\\Python37\\site-packages\\matplotlib\\cbook\\__init__.py:1402: FutureWarning: Support for multi-dimensional indexing (e.g. `obj[:, None]`) is deprecated and will be removed in a future version.  Convert to a numpy array before indexing instead.\n",
      "  ndim = x[:, None].ndim\n",
      "C:\\Users\\david\\AppData\\Roaming\\Python\\Python37\\site-packages\\matplotlib\\axes\\_base.py:276: FutureWarning: Support for multi-dimensional indexing (e.g. `obj[:, None]`) is deprecated and will be removed in a future version.  Convert to a numpy array before indexing instead.\n",
      "  x = x[:, np.newaxis]\n",
      "C:\\Users\\david\\AppData\\Roaming\\Python\\Python37\\site-packages\\matplotlib\\axes\\_base.py:278: FutureWarning: Support for multi-dimensional indexing (e.g. `obj[:, None]`) is deprecated and will be removed in a future version.  Convert to a numpy array before indexing instead.\n",
      "  y = y[:, np.newaxis]\n"
     ]
    },
    {
     "data": {
      "image/png": "[encoded data removed]",
      "text/plain": [
       "<Figure size 432x288 with 1 Axes>"
      ]
     },
     "metadata": {
      "needs_background": "light"
     },
     "output_type": "display_data"
    }
   ],
   "source": [
    "root = Tk()\n",
    "root.title(\"Datos meteorológicos\")\n",
    "root.configure(background = 'navy')\n",
    "root.geometry('700x700')\n",
    "Background = Image.open(\"Assets/Background.png\")\n",
    "photoBG = ImageTk.PhotoImage(Background)\n",
    "icon = Label(root, image = photoBG, borderwidth = 0)\n",
    "icon.image = photoBG\n",
    "icon.pack()\n",
    "message = Label(root, bg = 'navy', fg = 'white', width = 8, borderwidth = 0)\n",
    "message.pack(side = LEFT)\n",
    "var = StringVar(root)\n",
    "var.set(\"Puebla\")\n",
    "w = OptionMenu(root, var, \"Puebla\", \"Morelia\", \"Queretaro\", \"Monterrey\", \"Guadalajara\", \"Zacatecas\", \"Leon\", \"Pachuca\", \"Tijuana\")\n",
    "w.config(font=('Helvetica', 10), background = 'cyan')\n",
    "w.pack(side = LEFT)\n",
    "Temp = Image.open(\"Assets/Temp.png\")\n",
    "photoT = ImageTk.PhotoImage(Temp)\n",
    "button = Button(root, height = 100, width = 100, relief = FLAT, borderwidth = 0, bg = 'navy', image = photoT, command = temper)\n",
    "button.pack(side = LEFT)\n",
    "Hum = Image.open(\"Assets/Hum.png\")\n",
    "photoH = ImageTk.PhotoImage(Hum)\n",
    "button = Button(root, height = 100, width = 100, relief = FLAT, borderwidth = 0, bg = 'navy', image = photoH, command = hume)\n",
    "button.pack(side = LEFT)\n",
    "Wind = Image.open(\"Assets/Wind.png\")\n",
    "photoW = ImageTk.PhotoImage(Wind)\n",
    "button = Button(root, height = 100, width = 100, relief = FLAT, borderwidth = 0, bg = 'navy', image = photoW, command = wind)\n",
    "button.pack(side = LEFT)\n",
    "General = Image.open(\"Assets/General.png\")\n",
    "photoG = ImageTk.PhotoImage(General)\n",
    "button = Button(root, height = 100, width = 100, relief = FLAT, borderwidth = 0, bg = 'navy', image = photoG, command = city)\n",
    "button.pack(side = LEFT)\n",
    "root.mainloop()"
   ]
  },
  {
   "cell_type": "code",
   "execution_count": null,
   "metadata": {},
   "outputs": [],
   "source": []
  },
  {
   "cell_type": "code",
   "execution_count": null,
   "metadata": {},
   "outputs": [],
   "source": []
  }
 ],
 "metadata": {
  "kernelspec": {
   "display_name": "Python 3",
   "language": "python",
   "name": "python3"
  },
  "language_info": {
   "codemirror_mode": {
    "name": "ipython",
    "version": 3
   },
   "file_extension": ".py",
   "mimetype": "text/x-python",
   "name": "python",
   "nbconvert_exporter": "python",
   "pygments_lexer": "ipython3",
   "version": "3.7.3"
  }
 },
 "nbformat": 4,
 "nbformat_minor": 2
}

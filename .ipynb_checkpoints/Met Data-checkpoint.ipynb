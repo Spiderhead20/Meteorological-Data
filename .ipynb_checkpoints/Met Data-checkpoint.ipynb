{
 "cells": [
  {
   "cell_type": "code",
   "execution_count": 1,
   "metadata": {},
   "outputs": [],
   "source": [
    "import numpy as np\n",
    "import pandas as pd\n",
    "import datetime\n",
    "import json\n",
    "import requests\n",
    "import time\n",
    "import os"
   ]
  },
  {
   "cell_type": "markdown",
   "metadata": {},
   "source": [
    "###### Extraemos los datos meteorológicos de cualquier ciudad registrandose en https://openweathermap.org/city para obtener una llavede acceso y poder generar el archivo json correspondiente, por medio de un link similar al utilizado:"
   ]
  },
  {
   "cell_type": "code",
   "execution_count": 2,
   "metadata": {},
   "outputs": [],
   "source": [
    "puebla = json.loads(requests.get('http://api.openweathermap.org/data/2.5/weather?q=Puebla,mx&APPID=90b9bba2ea05ea2f0aba69cc7d3e86d7').text)"
   ]
  },
  {
   "cell_type": "code",
   "execution_count": 3,
   "metadata": {},
   "outputs": [
    {
     "data": {
      "text/plain": [
       "{'coord': {'lon': -98, 'lat': 18.8333},\n",
       " 'weather': [{'id': 804,\n",
       "   'main': 'Clouds',\n",
       "   'description': 'overcast clouds',\n",
       "   'icon': '04n'}],\n",
       " 'base': 'stations',\n",
       " 'main': {'temp': 290.09,\n",
       "  'feels_like': 290.16,\n",
       "  'temp_min': 290.09,\n",
       "  'temp_max': 290.09,\n",
       "  'pressure': 1017,\n",
       "  'humidity': 89,\n",
       "  'sea_level': 1017,\n",
       "  'grnd_level': 813},\n",
       " 'visibility': 10000,\n",
       " 'wind': {'speed': 1.42, 'deg': 223, 'gust': 2.58},\n",
       " 'clouds': {'all': 100},\n",
       " 'dt': 1624156554,\n",
       " 'sys': {'country': 'MX', 'sunrise': 1624103733, 'sunset': 1624151478},\n",
       " 'timezone': -18000,\n",
       " 'id': 3521082,\n",
       " 'name': 'Puebla',\n",
       " 'cod': 200}"
      ]
     },
     "execution_count": 3,
     "metadata": {},
     "output_type": "execute_result"
    }
   ],
   "source": [
    "puebla"
   ]
  },
  {
   "cell_type": "markdown",
   "metadata": {},
   "source": [
    "###### Para analizar la estructura del archivo json importado utilizamos el siguiente comando, de esa forma, sabremos que campos o indices contiene, por lo que podremos imprimir cada uno de forma individual."
   ]
  },
  {
   "cell_type": "code",
   "execution_count": 4,
   "metadata": {},
   "outputs": [
    {
     "data": {
      "text/plain": [
       "['coord',\n",
       " 'weather',\n",
       " 'base',\n",
       " 'main',\n",
       " 'visibility',\n",
       " 'wind',\n",
       " 'clouds',\n",
       " 'dt',\n",
       " 'sys',\n",
       " 'timezone',\n",
       " 'id',\n",
       " 'name',\n",
       " 'cod']"
      ]
     },
     "execution_count": 4,
     "metadata": {},
     "output_type": "execute_result"
    }
   ],
   "source": [
    "list(puebla.keys())"
   ]
  },
  {
   "cell_type": "code",
   "execution_count": 5,
   "metadata": {},
   "outputs": [
    {
     "name": "stdout",
     "output_type": "stream",
     "text": [
      "Coordenadas =  {'lon': -98, 'lat': 18.8333}\n",
      "Clima =  [{'id': 804, 'main': 'Clouds', 'description': 'overcast clouds', 'icon': '04n'}]\n",
      "Base =  stations\n",
      "Principal =  {'temp': 290.09, 'feels_like': 290.16, 'temp_min': 290.09, 'temp_max': 290.09, 'pressure': 1017, 'humidity': 89, 'sea_level': 1017, 'grnd_level': 813}\n",
      "Viento =  {'speed': 1.42, 'deg': 223, 'gust': 2.58}\n",
      "Nubes =  {'all': 100}\n",
      "DT =  1624156554\n",
      "SYS =  {'country': 'MX', 'sunrise': 1624103733, 'sunset': 1624151478}\n",
      "ID =  3521082\n",
      "Nombre =  Puebla\n",
      "Codigo =  200\n"
     ]
    }
   ],
   "source": [
    "print('Coordenadas = ', puebla['coord']) \n",
    "print('Clima = ', puebla['weather']) \n",
    "print('Base = ', puebla['base']) \n",
    "print('Principal = ', puebla['main']) \n",
    "print('Viento = ', puebla['wind']) \n",
    "print('Nubes = ', puebla['clouds']) \n",
    "print('DT = ', puebla['dt']) \n",
    "print('SYS = ', puebla['sys']) \n",
    "print('ID = ', puebla['id']) \n",
    "print('Nombre = ', puebla['name']) \n",
    "print('Codigo = ', puebla['cod'])"
   ]
  },
  {
   "cell_type": "markdown",
   "metadata": {},
   "source": [
    "###### Por ejemplo, podemos ver la temperatura actual accediendo mediante los campos main y temp; dado que el archivo json la provee en grados Kelvin, la convertimos a Celsius \n"
   ]
  },
  {
   "cell_type": "code",
   "execution_count": 6,
   "metadata": {},
   "outputs": [
    {
     "name": "stdout",
     "output_type": "stream",
     "text": [
      "16.939999999999998\n"
     ]
    }
   ],
   "source": [
    "KelvinTemp = puebla['main']['temp']\n",
    "CelsiusTemp = KelvinTemp - 273.15\n",
    "print(CelsiusTemp)"
   ]
  },
  {
   "cell_type": "markdown",
   "metadata": {},
   "source": [
    "###### Es necesario identificar cuales seran los datos mas relevantes del archivo, para poder implementar tecnicas de analisis de datos. Los datos deben ser extraidos, limpiados o modificados. Una forma conveniente es insertar algunos procedimientos de extracción a una función, en la que definimos los campos que incluira nuestro dataFrame:.\n",
    "###### Notese que para la temperatura ya se aplica la conversion a Celsius, ademas de que el parametro dt, dado que es dificil de leer, se convierte a un formato datetime, que especificará la fecha y hora de la extraccion de los datos."
   ]
  },
  {
   "cell_type": "code",
   "execution_count": 7,
   "metadata": {},
   "outputs": [],
   "source": [
    "def prepare(ciudad,nombreCiudad):    \n",
    "    temp = [ ]    \n",
    "    humidity = [ ]    \n",
    "    pressure = [ ]    \n",
    "    description = [ ]    \n",
    "    dt = [ ]    \n",
    "    wind_speed = [ ]    \n",
    "    wind_deg = [ ]    \n",
    "    temp.append(ciudad['main']['temp']-273.15)    \n",
    "    humidity.append(ciudad['main']['humidity'])    \n",
    "    pressure.append(ciudad['main']['pressure'])    \n",
    "    description.append(ciudad['weather'][0]['description'])    \n",
    "    dt.append(ciudad['dt'])    \n",
    "    wind_speed.append(ciudad['wind']['speed'])    \n",
    "    wind_deg.append(ciudad['wind']['deg'])     \n",
    "    headings = ['Temperatura','Humedad','Presion','Descripcion','dt','Velocidad viento','Grados viento']\n",
    "    data = [temp,humidity,pressure,description,dt,wind_speed,wind_deg]    \n",
    "    df = pd.DataFrame(data,index=headings)    \n",
    "    ciudad = df.T    \n",
    "    ciudad['Ciudad'] = nombreCiudad    \n",
    "    ciudad['Dia'] = ciudad['dt'].apply(datetime.datetime.fromtimestamp)    \n",
    "    return ciudad\n",
    "\n",
    "\n"
   ]
  },
  {
   "cell_type": "markdown",
   "metadata": {},
   "source": [
    "###### De esta forma, podemos definir un dataFrame con los datos extraidos del archivo json de la siguiente manera: "
   ]
  },
  {
   "cell_type": "code",
   "execution_count": 8,
   "metadata": {},
   "outputs": [
    {
     "data": {
      "text/html": [
       "<div>\n",
       "<style scoped>\n",
       "    .dataframe tbody tr th:only-of-type {\n",
       "        vertical-align: middle;\n",
       "    }\n",
       "\n",
       "    .dataframe tbody tr th {\n",
       "        vertical-align: top;\n",
       "    }\n",
       "\n",
       "    .dataframe thead th {\n",
       "        text-align: right;\n",
       "    }\n",
       "</style>\n",
       "<table border=\"1\" class=\"dataframe\">\n",
       "  <thead>\n",
       "    <tr style=\"text-align: right;\">\n",
       "      <th></th>\n",
       "      <th>Temperatura</th>\n",
       "      <th>Humedad</th>\n",
       "      <th>Presion</th>\n",
       "      <th>Descripcion</th>\n",
       "      <th>dt</th>\n",
       "      <th>Velocidad viento</th>\n",
       "      <th>Grados viento</th>\n",
       "      <th>Ciudad</th>\n",
       "      <th>Dia</th>\n",
       "    </tr>\n",
       "  </thead>\n",
       "  <tbody>\n",
       "    <tr>\n",
       "      <th>0</th>\n",
       "      <td>16.94</td>\n",
       "      <td>89</td>\n",
       "      <td>1017</td>\n",
       "      <td>overcast clouds</td>\n",
       "      <td>1624156554</td>\n",
       "      <td>1.42</td>\n",
       "      <td>223</td>\n",
       "      <td>Puebla</td>\n",
       "      <td>2021-06-19 21:35:54</td>\n",
       "    </tr>\n",
       "  </tbody>\n",
       "</table>\n",
       "</div>"
      ],
      "text/plain": [
       "  Temperatura Humedad Presion      Descripcion          dt Velocidad viento  \\\n",
       "0       16.94      89    1017  overcast clouds  1624156554             1.42   \n",
       "\n",
       "  Grados viento  Ciudad                 Dia  \n",
       "0           223  Puebla 2021-06-19 21:35:54  "
      ]
     },
     "execution_count": 8,
     "metadata": {},
     "output_type": "execute_result"
    }
   ],
   "source": [
    "t1 = prepare(puebla,'Puebla') \n",
    "t1"
   ]
  },
  {
   "cell_type": "markdown",
   "metadata": {},
   "source": [
    "###### Una forma de estructurar los datos de diferentes horarios respecto a la misma ciudad seria:"
   ]
  },
  {
   "cell_type": "code",
   "execution_count": 9,
   "metadata": {},
   "outputs": [
    {
     "data": {
      "text/html": [
       "<div>\n",
       "<style scoped>\n",
       "    .dataframe tbody tr th:only-of-type {\n",
       "        vertical-align: middle;\n",
       "    }\n",
       "\n",
       "    .dataframe tbody tr th {\n",
       "        vertical-align: top;\n",
       "    }\n",
       "\n",
       "    .dataframe thead th {\n",
       "        text-align: right;\n",
       "    }\n",
       "</style>\n",
       "<table border=\"1\" class=\"dataframe\">\n",
       "  <thead>\n",
       "    <tr style=\"text-align: right;\">\n",
       "      <th></th>\n",
       "      <th>Temperatura</th>\n",
       "      <th>Humedad</th>\n",
       "      <th>Presion</th>\n",
       "      <th>Descripcion</th>\n",
       "      <th>dt</th>\n",
       "      <th>Velocidad viento</th>\n",
       "      <th>Grados viento</th>\n",
       "      <th>Ciudad</th>\n",
       "      <th>Dia</th>\n",
       "    </tr>\n",
       "  </thead>\n",
       "  <tbody>\n",
       "    <tr>\n",
       "      <th>0</th>\n",
       "      <td>16.94</td>\n",
       "      <td>89</td>\n",
       "      <td>1017</td>\n",
       "      <td>overcast clouds</td>\n",
       "      <td>1624156554</td>\n",
       "      <td>1.42</td>\n",
       "      <td>223</td>\n",
       "      <td>Puebla</td>\n",
       "      <td>2021-06-19 21:35:54</td>\n",
       "    </tr>\n",
       "    <tr>\n",
       "      <th>0</th>\n",
       "      <td>16.94</td>\n",
       "      <td>89</td>\n",
       "      <td>1017</td>\n",
       "      <td>overcast clouds</td>\n",
       "      <td>1624156554</td>\n",
       "      <td>1.42</td>\n",
       "      <td>223</td>\n",
       "      <td>Puebla</td>\n",
       "      <td>2021-06-19 21:35:54</td>\n",
       "    </tr>\n",
       "  </tbody>\n",
       "</table>\n",
       "</div>"
      ],
      "text/plain": [
       "  Temperatura Humedad Presion      Descripcion          dt Velocidad viento  \\\n",
       "0       16.94      89    1017  overcast clouds  1624156554             1.42   \n",
       "0       16.94      89    1017  overcast clouds  1624156554             1.42   \n",
       "\n",
       "  Grados viento  Ciudad                 Dia  \n",
       "0           223  Puebla 2021-06-19 21:35:54  \n",
       "0           223  Puebla 2021-06-19 21:35:54  "
      ]
     },
     "execution_count": 9,
     "metadata": {},
     "output_type": "execute_result"
    }
   ],
   "source": [
    "Puebla = t1 \n",
    "pueblaNow = json.loads(requests.get('http://api.openweathermap.org/data/2.5/weather?q=Puebla,mx&APPID=90b9bba2ea05ea2f0aba69cc7d3e86d7').text)\n",
    "t2 = prepare(pueblaNow,'Puebla') \n",
    "Puebla = Puebla.append(t2) \n",
    "Puebla"
   ]
  },
  {
   "cell_type": "markdown",
   "metadata": {},
   "source": [
    "###### Para contar con datos completos, asignaremos un ciclo que agregue los datos meteorologicos de la misma ciudad en distintas horas de manera automatica"
   ]
  },
  {
   "cell_type": "code",
   "execution_count": 10,
   "metadata": {},
   "outputs": [
    {
     "name": "stdout",
     "output_type": "stream",
     "text": [
      "0   2021-06-19 21:35:54\n",
      "Name: Dia, dtype: datetime64[ns] 0    Puebla\n",
      "Name: Ciudad, dtype: object\n",
      "0   2021-06-19 21:35:54\n",
      "Name: Dia, dtype: datetime64[ns] 0    Puebla\n",
      "Name: Ciudad, dtype: object\n"
     ]
    }
   ],
   "source": [
    "t = prepare(puebla,'Puebla') \n",
    "Puebla2 = t \n",
    "start_time = time.time()\n",
    "timer = 0\n",
    "hour = 3\n",
    "lastHour = 0\n",
    "while(timer <= hour*2):\n",
    "    timer = time.time() - start_time\n",
    "    if(int(timer) % hour == 0 and int(timer) != lastHour):\n",
    "        lastHour = int(timer) \n",
    "        pueblaNow = json.loads(requests.get('http://api.openweathermap.org/data/2.5/weather?q=Puebla,mx&APPID=90b9bba2ea05ea2f0aba69cc7d3e86d7').text)\n",
    "        t = prepare(pueblaNow,'Puebla') \n",
    "        Puebla2 = Puebla2.append(t) \n",
    "        print(t['Dia'],t['Ciudad'])\n",
    "        "
   ]
  },
  {
   "cell_type": "markdown",
   "metadata": {},
   "source": [
    "###### La siguiente funcion nos ayudara a ingresar los datos"
   ]
  },
  {
   "cell_type": "code",
   "execution_count": 11,
   "metadata": {},
   "outputs": [],
   "source": [
    "def capture2(ciudad,nombreCiudad,link):    \n",
    "    t = prepare(ciudad,nombreCiudad) \n",
    "    print(t['Dia'],t['Ciudad'])   \n",
    "    Met = t \n",
    "    start_time = time.time()\n",
    "    timer = 0\n",
    "    minute = 60\n",
    "    hour = minute * 60\n",
    "    lastHour = 0\n",
    "    while(timer <= hour*2):\n",
    "        timer = time.time() - start_time\n",
    "        if(int(timer) % hour == 0 and int(timer) != lastHour):\n",
    "            lastHour = int(timer) \n",
    "            Now = json.loads(requests.get(link).text)\n",
    "            t = prepare(Now,nombreCiudad)\n",
    "            Met.append(t, ignore_index = True) \n",
    "            print(t['Dia'],t['Ciudad'])   \n",
    "    return Met"
   ]
  },
  {
   "cell_type": "code",
   "execution_count": 12,
   "metadata": {},
   "outputs": [],
   "source": [
    "#barcelona = json.loads(requests.get('http://api.openweathermap.org/data/2.5/weather?q=Barcelona,es&APPID=90b9bba2ea05ea2f0aba69cc7d3e86d7').text)\n",
    "#Barcelona = capture(barcelona,'Barcelona','http://api.openweathermap.org/data/2.5/weather?q=Barcelona,es&APPID=90b9bba2ea05ea2f0aba69cc7d3e86d7')\n",
    "#Barcelona\n",
    "#El anterior solo fue un ejemplo"
   ]
  },
  {
   "cell_type": "markdown",
   "metadata": {},
   "source": [
    "###### La siguiente implementacion buscaba ejecutar de forma paralela la recoleccion de datos de las 10 ciudades durante 10 horas. Esto presenta dos problemas: el primero es que ejecutar la funcion fork() en python por medio de os no es posible en Windows, por lo que es pertinente la instalacion de mas componentes. El segundo yace en lo impractico que resulta ejecutar este programa, ya que requeriria su ejecucion continua en una compiutadora durante 10 horas, por lo que se recomienda buscar otra aproximacion para algo tan trivial como la recoleccion de 10 filas de datos"
   ]
  },
  {
   "cell_type": "markdown",
   "metadata": {},
   "source": [
    "def creator(n):\n",
    "    i = 1\n",
    "    while(i<n):\n",
    "        newpid = os.fork()\n",
    "        if newpid == 0:\n",
    "            return i\n",
    "        i += 1\n",
    "        print(i)\n",
    "pid = creator(10)\n",
    "def cities(pid):\n",
    "    switcher = {\n",
    "                    1: \"PueblaMet = capture(puebla,'Puebla','http://api.openweathermap.org/data/2.5/weather?q=Puebla,mx&APPID=90b9bba2ea05ea2f0aba69cc7d3e86d7')\",\n",
    "                    2: \"TolucaMaet = capture(toluca,'Toluca','http://api.openweathermap.org/data/2.5/weather?q=Toluca,mx&APPID=90b9bba2ea05ea2f0aba69cc7d3e86d7')\",\n",
    "                    3: \"MoreliaMet = capture(morelia,'Morelia','http://api.openweathermap.org/data/2.5/weather?q=Morelia,mx&APPID=90b9bba2ea05ea2f0aba69cc7d3e86d7')\",\n",
    "                    4: \"QueretaroMet = capture(queretaro,'Queretaro','http://api.openweathermap.org/data/2.5/weather?q=Queretaro,mx&APPID=90b9bba2ea05ea2f0aba69cc7d3e86d7')\",\n",
    "                    5: \"MonterreyMet = capture(monterrey,'Monterrey','http://api.openweathermap.org/data/2.5/weather?q=Monterrey,mx&APPID=90b9bba2ea05ea2f0aba69cc7d3e86d7')\",\n",
    "                    6: \"GuadalajaraMet = capture(guadalajara,'Guadalajara','http://api.openweathermap.org/data/2.5/weather?q=Guadalajara,mx&APPID=90b9bba2ea05ea2f0aba69cc7d3e86d7')\",\n",
    "                    7: \"PachucaMet = capture(pachuca,'Pachuca','http://api.openweathermap.org/data/2.5/weather?q=Pachuca,mx&APPID=90b9bba2ea05ea2f0aba69cc7d3e86d7')\",\n",
    "                    8: \"LeonMet = capture(leon,'Leon','http://api.openweathermap.org/data/2.5/weather?q=Leon,mx&APPID=90b9bba2ea05ea2f0aba69cc7d3e86d7')\",\n",
    "                    9: \"ZacatecasMet = capture(zacatecas,'Zacatecas','http://api.openweathermap.org/data/2.5/weather?q=Zacatecas,mx&APPID=90b9bba2ea05ea2f0aba69cc7d3e86d7')\",\n",
    "                    10: \"TijuanaMet = capture(tijuana,'Tijuana','http://api.openweathermap.org/data/2.5/weather?q=Tijuana,mx&APPID=90b9bba2ea05ea2f0aba69cc7d3e86d7')\"\n",
    "                }\n",
    "    return switcher.get(argument, \"Error\") \n",
    "argument\n"
   ]
  },
  {
   "cell_type": "markdown",
   "metadata": {},
   "source": [
    "###### Ahora definimos una funcion para capturar cada vez que se desee agregar informacion, acoplandola a dataframes existentes"
   ]
  },
  {
   "cell_type": "code",
   "execution_count": 13,
   "metadata": {},
   "outputs": [],
   "source": [
    "def capture(nombreCiudad,Met,link): \n",
    "    Now = json.loads(requests.get(link).text)\n",
    "    t = prepare(Now,nombreCiudad) \n",
    "    print(t['Dia'],t['Ciudad'])   \n",
    "    Met = Met.append(t, ignore_index = True) \n",
    "    return Met"
   ]
  },
  {
   "cell_type": "code",
   "execution_count": 14,
   "metadata": {},
   "outputs": [],
   "source": [
    "PueblaMet = pd.read_csv('Metadata/Puebla.csv')\n",
    "TolucaMet = pd.read_csv('Metadata/Toluca.csv')\n",
    "MoreliaMet = pd.read_csv('Metadata/Morelia.csv')\n",
    "QueretaroMet = pd.read_csv('Metadata/Queretaro.csv')\n",
    "MonterreyMet = pd.read_csv('Metadata/Monterrey.csv')\n",
    "GuadalajaraMet = pd.read_csv('Metadata/Guadalajara.csv')\n",
    "PachucaMet = pd.read_csv('Metadata/Pachuca.csv')\n",
    "LeonMet = pd.read_csv('Metadata/Leon.csv')\n",
    "ZacatecasMet = pd.read_csv('Metadata/Zacatecas.csv')\n",
    "TijuanaMet = pd.read_csv('Metadata/Tijuana.csv')"
   ]
  },
  {
   "cell_type": "code",
   "execution_count": 15,
   "metadata": {},
   "outputs": [],
   "source": [
    "del PueblaMet['Unnamed: 0']\n",
    "del TolucaMet['Unnamed: 0']\n",
    "del MoreliaMet['Unnamed: 0']\n",
    "del QueretaroMet['Unnamed: 0']\n",
    "del MonterreyMet['Unnamed: 0']\n",
    "del GuadalajaraMet['Unnamed: 0']\n",
    "del PachucaMet['Unnamed: 0']\n",
    "del LeonMet['Unnamed: 0']\n",
    "del ZacatecasMet['Unnamed: 0']\n",
    "del TijuanaMet['Unnamed: 0']"
   ]
  },
  {
   "cell_type": "markdown",
   "metadata": {},
   "source": [
    "###### El siguiente espacio debe ejecutarse a distintas horas, para acoplar a cada dataFrame"
   ]
  },
  {
   "cell_type": "code",
   "execution_count": 16,
   "metadata": {
    "scrolled": true
   },
   "outputs": [
    {
     "name": "stdout",
     "output_type": "stream",
     "text": [
      "0   2021-06-19 21:35:54\n",
      "Name: Dia, dtype: datetime64[ns] 0    Puebla\n",
      "Name: Ciudad, dtype: object\n",
      "0   2021-06-19 21:34:05\n",
      "Name: Dia, dtype: datetime64[ns] 0    Toluca\n",
      "Name: Ciudad, dtype: object\n",
      "0   2021-06-19 21:32:22\n",
      "Name: Dia, dtype: datetime64[ns] 0    Morelia\n",
      "Name: Ciudad, dtype: object\n",
      "0   2021-06-19 21:32:52\n",
      "Name: Dia, dtype: datetime64[ns] 0    Queretaro\n",
      "Name: Ciudad, dtype: object\n",
      "0   2021-06-19 21:35:48\n",
      "Name: Dia, dtype: datetime64[ns] 0    Monterrey\n",
      "Name: Ciudad, dtype: object\n",
      "0   2021-06-19 21:35:55\n",
      "Name: Dia, dtype: datetime64[ns] 0    Guadalajara\n",
      "Name: Ciudad, dtype: object\n",
      "0   2021-06-19 21:30:57\n",
      "Name: Dia, dtype: datetime64[ns] 0    Pachuca\n",
      "Name: Ciudad, dtype: object\n",
      "0   2021-06-19 21:35:55\n",
      "Name: Dia, dtype: datetime64[ns] 0    Leon\n",
      "Name: Ciudad, dtype: object\n",
      "0   2021-06-19 21:32:27\n",
      "Name: Dia, dtype: datetime64[ns] 0    Zacatecas\n",
      "Name: Ciudad, dtype: object\n",
      "0   2021-06-19 21:33:42\n",
      "Name: Dia, dtype: datetime64[ns] 0    Tijuana\n",
      "Name: Ciudad, dtype: object\n"
     ]
    }
   ],
   "source": [
    "PueblaMet = capture('Puebla',PueblaMet,'http://api.openweathermap.org/data/2.5/weather?q=Puebla,mx&APPID=90b9bba2ea05ea2f0aba69cc7d3e86d7')\n",
    "TolucaMet = capture('Toluca',TolucaMet,'http://api.openweathermap.org/data/2.5/weather?q=Toluca,mx&APPID=90b9bba2ea05ea2f0aba69cc7d3e86d7')\n",
    "MoreliaMet = capture('Morelia',MoreliaMet,'http://api.openweathermap.org/data/2.5/weather?q=Morelia,mx&APPID=90b9bba2ea05ea2f0aba69cc7d3e86d7')\n",
    "QueretaroMet = capture('Queretaro',QueretaroMet,'http://api.openweathermap.org/data/2.5/weather?q=Queretaro,mx&APPID=90b9bba2ea05ea2f0aba69cc7d3e86d7')\n",
    "MonterreyMet = capture('Monterrey',MonterreyMet,'http://api.openweathermap.org/data/2.5/weather?q=Monterrey,mx&APPID=90b9bba2ea05ea2f0aba69cc7d3e86d7')\n",
    "GuadalajaraMet = capture('Guadalajara',GuadalajaraMet,'http://api.openweathermap.org/data/2.5/weather?q=Guadalajara,mx&APPID=90b9bba2ea05ea2f0aba69cc7d3e86d7')\n",
    "PachucaMet = capture('Pachuca',PachucaMet,'http://api.openweathermap.org/data/2.5/weather?q=Pachuca,mx&APPID=90b9bba2ea05ea2f0aba69cc7d3e86d7')\n",
    "LeonMet = capture('Leon',LeonMet,'http://api.openweathermap.org/data/2.5/weather?q=Leon,mx&APPID=90b9bba2ea05ea2f0aba69cc7d3e86d7')\n",
    "ZacatecasMet = capture('Zacatecas',ZacatecasMet,'http://api.openweathermap.org/data/2.5/weather?q=Zacatecas,mx&APPID=90b9bba2ea05ea2f0aba69cc7d3e86d7')\n",
    "TijuanaMet = capture('Tijuana',TijuanaMet,'http://api.openweathermap.org/data/2.5/weather?q=Tijuana,mx&APPID=90b9bba2ea05ea2f0aba69cc7d3e86d7')\n",
    " "
   ]
  },
  {
   "cell_type": "code",
   "execution_count": 17,
   "metadata": {},
   "outputs": [],
   "source": [
    "PueblaMet.to_csv('Puebla.csv')\n",
    "TolucaMet.to_csv('Toluca.csv')\n",
    "MoreliaMet.to_csv('Morelia.csv')\n",
    "QueretaroMet.to_csv('Queretaro.csv')\n",
    "MonterreyMet.to_csv('Monterrey.csv')\n",
    "GuadalajaraMet.to_csv('Guadalajara.csv')\n",
    "PachucaMet.to_csv('Pachuca.csv')\n",
    "LeonMet.to_csv('Leon.csv')\n",
    "ZacatecasMet.to_csv('Zacatecas.csv')\n",
    "TijuanaMet.to_csv('Tijuana.csv')"
   ]
  },
  {
   "cell_type": "code",
   "execution_count": 18,
   "metadata": {},
   "outputs": [
    {
     "data": {
      "text/html": [
       "<div>\n",
       "<style scoped>\n",
       "    .dataframe tbody tr th:only-of-type {\n",
       "        vertical-align: middle;\n",
       "    }\n",
       "\n",
       "    .dataframe tbody tr th {\n",
       "        vertical-align: top;\n",
       "    }\n",
       "\n",
       "    .dataframe thead th {\n",
       "        text-align: right;\n",
       "    }\n",
       "</style>\n",
       "<table border=\"1\" class=\"dataframe\">\n",
       "  <thead>\n",
       "    <tr style=\"text-align: right;\">\n",
       "      <th></th>\n",
       "      <th>Temperatura</th>\n",
       "      <th>Humedad</th>\n",
       "      <th>Presion</th>\n",
       "      <th>Descripcion</th>\n",
       "      <th>dt</th>\n",
       "      <th>Velocidad viento</th>\n",
       "      <th>Grados viento</th>\n",
       "      <th>Ciudad</th>\n",
       "      <th>Dia</th>\n",
       "    </tr>\n",
       "  </thead>\n",
       "  <tbody>\n",
       "    <tr>\n",
       "      <th>0</th>\n",
       "      <td>16.94</td>\n",
       "      <td>89</td>\n",
       "      <td>1017</td>\n",
       "      <td>overcast clouds</td>\n",
       "      <td>1624156554</td>\n",
       "      <td>1.42</td>\n",
       "      <td>223</td>\n",
       "      <td>Puebla</td>\n",
       "      <td>2021-06-19 21:35:54</td>\n",
       "    </tr>\n",
       "    <tr>\n",
       "      <th>1</th>\n",
       "      <td>16.94</td>\n",
       "      <td>89</td>\n",
       "      <td>1017</td>\n",
       "      <td>overcast clouds</td>\n",
       "      <td>1624156554</td>\n",
       "      <td>1.42</td>\n",
       "      <td>223</td>\n",
       "      <td>Puebla</td>\n",
       "      <td>2021-06-19 21:35:54</td>\n",
       "    </tr>\n",
       "  </tbody>\n",
       "</table>\n",
       "</div>"
      ],
      "text/plain": [
       "  Temperatura Humedad Presion      Descripcion          dt Velocidad viento  \\\n",
       "0       16.94      89    1017  overcast clouds  1624156554             1.42   \n",
       "1       16.94      89    1017  overcast clouds  1624156554             1.42   \n",
       "\n",
       "  Grados viento  Ciudad                  Dia  \n",
       "0           223  Puebla  2021-06-19 21:35:54  \n",
       "1           223  Puebla  2021-06-19 21:35:54  "
      ]
     },
     "execution_count": 18,
     "metadata": {},
     "output_type": "execute_result"
    }
   ],
   "source": [
    "PueblaMet"
   ]
  }
 ],
 "metadata": {
  "kernelspec": {
   "display_name": "Python 3",
   "language": "python",
   "name": "python3"
  },
  "language_info": {
   "codemirror_mode": {
    "name": "ipython",
    "version": 3
   },
   "file_extension": ".py",
   "mimetype": "text/x-python",
   "name": "python",
   "nbconvert_exporter": "python",
   "pygments_lexer": "ipython3",
   "version": "3.7.3"
  }
 },
 "nbformat": 4,
 "nbformat_minor": 2
}

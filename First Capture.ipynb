{
 "cells": [
  {
   "cell_type": "code",
   "execution_count": 1,
   "metadata": {},
   "outputs": [],
   "source": [
    "import numpy as np\n",
    "import pandas as pd\n",
    "import datetime\n",
    "import json\n",
    "import requests\n",
    "import time\n",
    "import os"
   ]
  },
  {
   "cell_type": "code",
   "execution_count": 2,
   "metadata": {},
   "outputs": [],
   "source": [
    "puebla = json.loads(requests.get('http://api.openweathermap.org/data/2.5/weather?q=Puebla,mx&APPID=90b9bba2ea05ea2f0aba69cc7d3e86d7').text)\n",
    "toluca = json.loads(requests.get('http://api.openweathermap.org/data/2.5/weather?q=Toluca,mx&APPID=90b9bba2ea05ea2f0aba69cc7d3e86d7').text)\n",
    "morelia = json.loads(requests.get('http://api.openweathermap.org/data/2.5/weather?q=Morelia,mx&APPID=90b9bba2ea05ea2f0aba69cc7d3e86d7').text)\n",
    "queretaro = json.loads(requests.get('http://api.openweathermap.org/data/2.5/weather?q=Queretaro,mx&APPID=90b9bba2ea05ea2f0aba69cc7d3e86d7').text)\n",
    "monterrey = json.loads(requests.get('http://api.openweathermap.org/data/2.5/weather?q=Monterrey,mx&APPID=90b9bba2ea05ea2f0aba69cc7d3e86d7').text)\n",
    "guadalajara = json.loads(requests.get('http://api.openweathermap.org/data/2.5/weather?q=Guadalajara,mx&APPID=90b9bba2ea05ea2f0aba69cc7d3e86d7').text)\n",
    "pachuca = json.loads(requests.get('http://api.openweathermap.org/data/2.5/weather?q=Pachuca,mx&APPID=90b9bba2ea05ea2f0aba69cc7d3e86d7').text)\n",
    "leon = json.loads(requests.get('http://api.openweathermap.org/data/2.5/weather?q=Leon,mx&APPID=90b9bba2ea05ea2f0aba69cc7d3e86d7').text)\n",
    "zacatecas = json.loads(requests.get('http://api.openweathermap.org/data/2.5/weather?q=Zacatecas,mx&APPID=90b9bba2ea05ea2f0aba69cc7d3e86d7').text)\n",
    "tijuana = json.loads(requests.get('http://api.openweathermap.org/data/2.5/weather?q=Tijuana,mx&APPID=90b9bba2ea05ea2f0aba69cc7d3e86d7').text)"
   ]
  },
  {
   "cell_type": "code",
   "execution_count": 3,
   "metadata": {},
   "outputs": [],
   "source": [
    "def prepare(ciudad,nombreCiudad):    \n",
    "    temp = [ ]    \n",
    "    humidity = [ ]    \n",
    "    pressure = [ ]    \n",
    "    description = [ ]    \n",
    "    dt = [ ]    \n",
    "    wind_speed = [ ]    \n",
    "    wind_deg = [ ]    \n",
    "    temp.append(ciudad['main']['temp']-273.15)    \n",
    "    humidity.append(ciudad['main']['humidity'])    \n",
    "    pressure.append(ciudad['main']['pressure'])    \n",
    "    description.append(ciudad['weather'][0]['description'])    \n",
    "    dt.append(ciudad['dt'])    \n",
    "    wind_speed.append(ciudad['wind']['speed'])    \n",
    "    wind_deg.append(ciudad['wind']['deg'])     \n",
    "    headings = ['Temperatura','Humedad','Presion','Descripcion','dt','Velocidad viento','Grados viento']\n",
    "    data = [temp,humidity,pressure,description,dt,wind_speed,wind_deg]    \n",
    "    df = pd.DataFrame(data,index=headings)    \n",
    "    ciudad = df.T    \n",
    "    ciudad['Ciudad'] = nombreCiudad    \n",
    "    ciudad['Dia'] = ciudad['dt'].apply(datetime.datetime.fromtimestamp)    \n",
    "    return ciudad\n",
    "\n"
   ]
  },
  {
   "cell_type": "code",
   "execution_count": 4,
   "metadata": {},
   "outputs": [],
   "source": [
    "def firstCapture(ciudad,nombreCiudad):\n",
    "    t = prepare(ciudad,nombreCiudad) \n",
    "    Met = t \n",
    "    print(t['Dia'],t['Ciudad'])   \n",
    "    return Met"
   ]
  },
  {
   "cell_type": "code",
   "execution_count": 5,
   "metadata": {},
   "outputs": [
    {
     "name": "stdout",
     "output_type": "stream",
     "text": [
      "0   2019-11-25 19:37:41\n",
      "Name: Dia, dtype: datetime64[ns] 0    Puebla\n",
      "Name: Ciudad, dtype: object\n",
      "0   2019-11-25 19:37:42\n",
      "Name: Dia, dtype: datetime64[ns] 0    Toluca\n",
      "Name: Ciudad, dtype: object\n",
      "0   2019-11-25 19:37:11\n",
      "Name: Dia, dtype: datetime64[ns] 0    Morelia\n",
      "Name: Ciudad, dtype: object\n",
      "0   2019-11-25 19:36:04\n",
      "Name: Dia, dtype: datetime64[ns] 0    Queretaro\n",
      "Name: Ciudad, dtype: object\n",
      "0   2019-11-25 19:32:59\n",
      "Name: Dia, dtype: datetime64[ns] 0    Monterrey\n",
      "Name: Ciudad, dtype: object\n",
      "0   2019-11-25 19:37:47\n",
      "Name: Dia, dtype: datetime64[ns] 0    Guadalajara\n",
      "Name: Ciudad, dtype: object\n",
      "0   2019-11-25 19:37:48\n",
      "Name: Dia, dtype: datetime64[ns] 0    Pachuca\n",
      "Name: Ciudad, dtype: object\n",
      "0   2019-11-25 19:37:48\n",
      "Name: Dia, dtype: datetime64[ns] 0    Leon\n",
      "Name: Ciudad, dtype: object\n",
      "0   2019-11-25 19:37:50\n",
      "Name: Dia, dtype: datetime64[ns] 0    Zacatecas\n",
      "Name: Ciudad, dtype: object\n",
      "0   2019-11-25 19:37:18\n",
      "Name: Dia, dtype: datetime64[ns] 0    Tijuana\n",
      "Name: Ciudad, dtype: object\n"
     ]
    }
   ],
   "source": [
    "PueblaMet = firstCapture(puebla,'Puebla')\n",
    "TolucaMet = firstCapture(toluca,'Toluca')\n",
    "MoreliaMet = firstCapture(morelia,'Morelia')\n",
    "QueretaroMet = firstCapture(queretaro,'Queretaro')\n",
    "MonterreyMet = firstCapture(monterrey,'Monterrey')\n",
    "GuadalajaraMet = firstCapture(guadalajara,'Guadalajara')\n",
    "PachucaMet = firstCapture(pachuca,'Pachuca')\n",
    "LeonMet = firstCapture(leon,'Leon')\n",
    "ZacatecasMet = firstCapture(zacatecas,'Zacatecas')\n",
    "TijuanaMet = firstCapture(tijuana,'Tijuana')"
   ]
  },
  {
   "cell_type": "code",
   "execution_count": 6,
   "metadata": {},
   "outputs": [],
   "source": [
    "PueblaMet.to_csv('Puebla.csv')\n",
    "TolucaMet.to_csv('Toluca.csv')\n",
    "MoreliaMet.to_csv('Morelia.csv')\n",
    "QueretaroMet.to_csv('Queretaro.csv')\n",
    "MonterreyMet.to_csv('Monterrey.csv')\n",
    "GuadalajaraMet.to_csv('Guadalajara.csv')\n",
    "PachucaMet.to_csv('Pachuca.csv')\n",
    "LeonMet.to_csv('Leon.csv')\n",
    "ZacatecasMet.to_csv('Zacatecas.csv')\n",
    "TijuanaMet.to_csv('Tijuana.csv')"
   ]
  },
  {
   "cell_type": "code",
   "execution_count": 7,
   "metadata": {},
   "outputs": [
    {
     "data": {
      "text/html": [
       "<div>\n",
       "<style scoped>\n",
       "    .dataframe tbody tr th:only-of-type {\n",
       "        vertical-align: middle;\n",
       "    }\n",
       "\n",
       "    .dataframe tbody tr th {\n",
       "        vertical-align: top;\n",
       "    }\n",
       "\n",
       "    .dataframe thead th {\n",
       "        text-align: right;\n",
       "    }\n",
       "</style>\n",
       "<table border=\"1\" class=\"dataframe\">\n",
       "  <thead>\n",
       "    <tr style=\"text-align: right;\">\n",
       "      <th></th>\n",
       "      <th>Temperatura</th>\n",
       "      <th>Humedad</th>\n",
       "      <th>Presion</th>\n",
       "      <th>Descripcion</th>\n",
       "      <th>dt</th>\n",
       "      <th>Velocidad viento</th>\n",
       "      <th>Grados viento</th>\n",
       "      <th>Ciudad</th>\n",
       "      <th>Dia</th>\n",
       "    </tr>\n",
       "  </thead>\n",
       "  <tbody>\n",
       "    <tr>\n",
       "      <th>0</th>\n",
       "      <td>15</td>\n",
       "      <td>82</td>\n",
       "      <td>1022</td>\n",
       "      <td>scattered clouds</td>\n",
       "      <td>1574732261</td>\n",
       "      <td>4.1</td>\n",
       "      <td>190</td>\n",
       "      <td>Puebla</td>\n",
       "      <td>2019-11-25 19:37:41</td>\n",
       "    </tr>\n",
       "  </tbody>\n",
       "</table>\n",
       "</div>"
      ],
      "text/plain": [
       "  Temperatura Humedad Presion       Descripcion          dt Velocidad viento  \\\n",
       "0          15      82    1022  scattered clouds  1574732261              4.1   \n",
       "\n",
       "  Grados viento  Ciudad                 Dia  \n",
       "0           190  Puebla 2019-11-25 19:37:41  "
      ]
     },
     "execution_count": 7,
     "metadata": {},
     "output_type": "execute_result"
    }
   ],
   "source": [
    "PueblaMet"
   ]
  }
 ],
 "metadata": {
  "kernelspec": {
   "display_name": "Python 3",
   "language": "python",
   "name": "python3"
  },
  "language_info": {
   "codemirror_mode": {
    "name": "ipython",
    "version": 3
   },
   "file_extension": ".py",
   "mimetype": "text/x-python",
   "name": "python",
   "nbconvert_exporter": "python",
   "pygments_lexer": "ipython3",
   "version": "3.7.3"
  }
 },
 "nbformat": 4,
 "nbformat_minor": 2
}

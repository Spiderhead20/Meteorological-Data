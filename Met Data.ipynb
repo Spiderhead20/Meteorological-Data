{
 "cells": [
  {
   "cell_type": "code",
   "execution_count": 1,
   "metadata": {},
   "outputs": [],
   "source": [
    "import numpy as np\n",
    "import pandas as pd\n",
    "import datetime\n",
    "import json\n",
    "import requests\n",
    "import time\n",
    "import os"
   ]
  },
  {
   "cell_type": "markdown",
   "metadata": {},
   "source": [
    "###### Extraemos los datos meteorológicos de cualquier ciudad registrandose en https://openweathermap.org/city para obtener una llavede acceso y poder generar el archivo json correspondiente, por medio de un link similar al utilizado:"
   ]
  },
  {
   "cell_type": "code",
   "execution_count": 2,
   "metadata": {},
   "outputs": [],
   "source": [
    "puebla = json.loads(requests.get('http://api.openweathermap.org/data/2.5/weather?q=Puebla,mx&APPID=90b9bba2ea05ea2f0aba69cc7d3e86d7').text)"
   ]
  },
  {
   "cell_type": "code",
   "execution_count": 3,
   "metadata": {},
   "outputs": [
    {
     "data": {
      "text/plain": [
       "{'coord': {'lon': -98.2, 'lat': 19.04},\n",
       " 'weather': [{'id': 803,\n",
       "   'main': 'Clouds',\n",
       "   'description': 'broken clouds',\n",
       "   'icon': '04d'}],\n",
       " 'base': 'stations',\n",
       " 'main': {'temp': 291.15,\n",
       "  'pressure': 1025,\n",
       "  'humidity': 59,\n",
       "  'temp_min': 291.15,\n",
       "  'temp_max': 291.15},\n",
       " 'visibility': 9656,\n",
       " 'wind': {'speed': 1.45, 'deg': 199},\n",
       " 'clouds': {'all': 75},\n",
       " 'dt': 1574785579,\n",
       " 'sys': {'type': 1,\n",
       "  'id': 7138,\n",
       "  'country': 'MX',\n",
       "  'sunrise': 1574772409,\n",
       "  'sunset': 1574812422},\n",
       " 'timezone': -21600,\n",
       " 'id': 3521081,\n",
       " 'name': 'Puebla',\n",
       " 'cod': 200}"
      ]
     },
     "execution_count": 3,
     "metadata": {},
     "output_type": "execute_result"
    }
   ],
   "source": [
    "puebla"
   ]
  },
  {
   "cell_type": "markdown",
   "metadata": {},
   "source": [
    "###### Para analizar la estructura del archivo json importado utilizamos el siguiente comando, de esa forma, sabremos que campos o indices contiene, por lo que podremos imprimir cada uno de forma individual."
   ]
  },
  {
   "cell_type": "code",
   "execution_count": 4,
   "metadata": {},
   "outputs": [
    {
     "data": {
      "text/plain": [
       "['coord',\n",
       " 'weather',\n",
       " 'base',\n",
       " 'main',\n",
       " 'visibility',\n",
       " 'wind',\n",
       " 'clouds',\n",
       " 'dt',\n",
       " 'sys',\n",
       " 'timezone',\n",
       " 'id',\n",
       " 'name',\n",
       " 'cod']"
      ]
     },
     "execution_count": 4,
     "metadata": {},
     "output_type": "execute_result"
    }
   ],
   "source": [
    "list(puebla.keys())"
   ]
  },
  {
   "cell_type": "code",
   "execution_count": 5,
   "metadata": {},
   "outputs": [
    {
     "name": "stdout",
     "output_type": "stream",
     "text": [
      "Coordenadas =  {'lon': -98.2, 'lat': 19.04}\n",
      "Clima =  [{'id': 803, 'main': 'Clouds', 'description': 'broken clouds', 'icon': '04d'}]\n",
      "Base =  stations\n",
      "Principal =  {'temp': 291.15, 'pressure': 1025, 'humidity': 59, 'temp_min': 291.15, 'temp_max': 291.15}\n",
      "Viento =  {'speed': 1.45, 'deg': 199}\n",
      "Nubes =  {'all': 75}\n",
      "DT =  1574785579\n",
      "SYS =  {'type': 1, 'id': 7138, 'country': 'MX', 'sunrise': 1574772409, 'sunset': 1574812422}\n",
      "ID =  3521081\n",
      "Nombre =  Puebla\n",
      "Codigo =  200\n"
     ]
    }
   ],
   "source": [
    "print('Coordenadas = ', puebla['coord']) \n",
    "print('Clima = ', puebla['weather']) \n",
    "print('Base = ', puebla['base']) \n",
    "print('Principal = ', puebla['main']) \n",
    "print('Viento = ', puebla['wind']) \n",
    "print('Nubes = ', puebla['clouds']) \n",
    "print('DT = ', puebla['dt']) \n",
    "print('SYS = ', puebla['sys']) \n",
    "print('ID = ', puebla['id']) \n",
    "print('Nombre = ', puebla['name']) \n",
    "print('Codigo = ', puebla['cod'])"
   ]
  },
  {
   "cell_type": "markdown",
   "metadata": {},
   "source": [
    "###### Por ejemplo, podemos ver la temperatura actual accediendo mediante los campos main y temp; dado que el archivo json la provee en grados Kelvin, la convertimos a Celsius \n"
   ]
  },
  {
   "cell_type": "code",
   "execution_count": 6,
   "metadata": {},
   "outputs": [
    {
     "name": "stdout",
     "output_type": "stream",
     "text": [
      "18.0\n"
     ]
    }
   ],
   "source": [
    "KelvinTemp = puebla['main']['temp']\n",
    "CelsiusTemp = KelvinTemp - 273.15\n",
    "print(CelsiusTemp)"
   ]
  },
  {
   "cell_type": "markdown",
   "metadata": {},
   "source": [
    "###### Es necesario identificar cuales seran los datos mas relevantes del archivo, para poder implementar tecnicas de analisis de datos. Los datos deben ser extraidos, limpiados o modificados. Una forma conveniente es insertar algunos procedimientos de extracción a una función, en la que definimos los campos que incluira nuestro dataFrame:.\n",
    "###### Notese que para la temperatura ya se aplica la conversion a Celsius, ademas de que el parametro dt, dado que es dificil de leer, se convierte a un formato datetime, que especificará la fecha y hora de la extraccion de los datos."
   ]
  },
  {
   "cell_type": "code",
   "execution_count": 7,
   "metadata": {},
   "outputs": [],
   "source": [
    "def prepare(ciudad,nombreCiudad):    \n",
    "    temp = [ ]    \n",
    "    humidity = [ ]    \n",
    "    pressure = [ ]    \n",
    "    description = [ ]    \n",
    "    dt = [ ]    \n",
    "    wind_speed = [ ]    \n",
    "    wind_deg = [ ]    \n",
    "    temp.append(ciudad['main']['temp']-273.15)    \n",
    "    humidity.append(ciudad['main']['humidity'])    \n",
    "    pressure.append(ciudad['main']['pressure'])    \n",
    "    description.append(ciudad['weather'][0]['description'])    \n",
    "    dt.append(ciudad['dt'])    \n",
    "    wind_speed.append(ciudad['wind']['speed'])    \n",
    "    wind_deg.append(ciudad['wind']['deg'])     \n",
    "    headings = ['Temperatura','Humedad','Presion','Descripcion','dt','Velocidad viento','Grados viento']\n",
    "    data = [temp,humidity,pressure,description,dt,wind_speed,wind_deg]    \n",
    "    df = pd.DataFrame(data,index=headings)    \n",
    "    ciudad = df.T    \n",
    "    ciudad['Ciudad'] = nombreCiudad    \n",
    "    ciudad['Dia'] = ciudad['dt'].apply(datetime.datetime.fromtimestamp)    \n",
    "    return ciudad\n",
    "\n",
    "\n"
   ]
  },
  {
   "cell_type": "markdown",
   "metadata": {},
   "source": [
    "###### De esta forma, podemos definir un dataFrame con los datos extraidos del archivo json de la siguiente manera: "
   ]
  },
  {
   "cell_type": "code",
   "execution_count": 8,
   "metadata": {},
   "outputs": [
    {
     "data": {
      "text/html": [
       "<div>\n",
       "<style scoped>\n",
       "    .dataframe tbody tr th:only-of-type {\n",
       "        vertical-align: middle;\n",
       "    }\n",
       "\n",
       "    .dataframe tbody tr th {\n",
       "        vertical-align: top;\n",
       "    }\n",
       "\n",
       "    .dataframe thead th {\n",
       "        text-align: right;\n",
       "    }\n",
       "</style>\n",
       "<table border=\"1\" class=\"dataframe\">\n",
       "  <thead>\n",
       "    <tr style=\"text-align: right;\">\n",
       "      <th></th>\n",
       "      <th>Temperatura</th>\n",
       "      <th>Humedad</th>\n",
       "      <th>Presion</th>\n",
       "      <th>Descripcion</th>\n",
       "      <th>dt</th>\n",
       "      <th>Velocidad viento</th>\n",
       "      <th>Grados viento</th>\n",
       "      <th>Ciudad</th>\n",
       "      <th>Dia</th>\n",
       "    </tr>\n",
       "  </thead>\n",
       "  <tbody>\n",
       "    <tr>\n",
       "      <th>0</th>\n",
       "      <td>18</td>\n",
       "      <td>59</td>\n",
       "      <td>1025</td>\n",
       "      <td>broken clouds</td>\n",
       "      <td>1574785579</td>\n",
       "      <td>1.45</td>\n",
       "      <td>199</td>\n",
       "      <td>Puebla</td>\n",
       "      <td>2019-11-26 10:26:19</td>\n",
       "    </tr>\n",
       "  </tbody>\n",
       "</table>\n",
       "</div>"
      ],
      "text/plain": [
       "  Temperatura Humedad Presion    Descripcion          dt Velocidad viento  \\\n",
       "0          18      59    1025  broken clouds  1574785579             1.45   \n",
       "\n",
       "  Grados viento  Ciudad                 Dia  \n",
       "0           199  Puebla 2019-11-26 10:26:19  "
      ]
     },
     "execution_count": 8,
     "metadata": {},
     "output_type": "execute_result"
    }
   ],
   "source": [
    "t1 = prepare(puebla,'Puebla') \n",
    "t1"
   ]
  },
  {
   "cell_type": "markdown",
   "metadata": {},
   "source": [
    "###### Una forma de estructurar los datos de diferentes horarios respecto a la misma ciudad seria:"
   ]
  },
  {
   "cell_type": "code",
   "execution_count": 9,
   "metadata": {},
   "outputs": [
    {
     "data": {
      "text/html": [
       "<div>\n",
       "<style scoped>\n",
       "    .dataframe tbody tr th:only-of-type {\n",
       "        vertical-align: middle;\n",
       "    }\n",
       "\n",
       "    .dataframe tbody tr th {\n",
       "        vertical-align: top;\n",
       "    }\n",
       "\n",
       "    .dataframe thead th {\n",
       "        text-align: right;\n",
       "    }\n",
       "</style>\n",
       "<table border=\"1\" class=\"dataframe\">\n",
       "  <thead>\n",
       "    <tr style=\"text-align: right;\">\n",
       "      <th></th>\n",
       "      <th>Temperatura</th>\n",
       "      <th>Humedad</th>\n",
       "      <th>Presion</th>\n",
       "      <th>Descripcion</th>\n",
       "      <th>dt</th>\n",
       "      <th>Velocidad viento</th>\n",
       "      <th>Grados viento</th>\n",
       "      <th>Ciudad</th>\n",
       "      <th>Dia</th>\n",
       "    </tr>\n",
       "  </thead>\n",
       "  <tbody>\n",
       "    <tr>\n",
       "      <th>0</th>\n",
       "      <td>18</td>\n",
       "      <td>59</td>\n",
       "      <td>1025</td>\n",
       "      <td>broken clouds</td>\n",
       "      <td>1574785579</td>\n",
       "      <td>1.45</td>\n",
       "      <td>199</td>\n",
       "      <td>Puebla</td>\n",
       "      <td>2019-11-26 10:26:19</td>\n",
       "    </tr>\n",
       "    <tr>\n",
       "      <th>0</th>\n",
       "      <td>18</td>\n",
       "      <td>59</td>\n",
       "      <td>1025</td>\n",
       "      <td>broken clouds</td>\n",
       "      <td>1574785579</td>\n",
       "      <td>1.45</td>\n",
       "      <td>199</td>\n",
       "      <td>Puebla</td>\n",
       "      <td>2019-11-26 10:26:19</td>\n",
       "    </tr>\n",
       "  </tbody>\n",
       "</table>\n",
       "</div>"
      ],
      "text/plain": [
       "  Temperatura Humedad Presion    Descripcion          dt Velocidad viento  \\\n",
       "0          18      59    1025  broken clouds  1574785579             1.45   \n",
       "0          18      59    1025  broken clouds  1574785579             1.45   \n",
       "\n",
       "  Grados viento  Ciudad                 Dia  \n",
       "0           199  Puebla 2019-11-26 10:26:19  \n",
       "0           199  Puebla 2019-11-26 10:26:19  "
      ]
     },
     "execution_count": 9,
     "metadata": {},
     "output_type": "execute_result"
    }
   ],
   "source": [
    "Puebla = t1 \n",
    "pueblaNow = json.loads(requests.get('http://api.openweathermap.org/data/2.5/weather?q=Puebla,mx&APPID=90b9bba2ea05ea2f0aba69cc7d3e86d7').text)\n",
    "t2 = prepare(pueblaNow,'Puebla') \n",
    "Puebla = Puebla.append(t2) \n",
    "Puebla"
   ]
  },
  {
   "cell_type": "markdown",
   "metadata": {},
   "source": [
    "###### Para contar con datos completos, asignaremos un ciclo que agregue los datos meteorologicos de la misma ciudad en distintas horas de manera automatica"
   ]
  },
  {
   "cell_type": "code",
   "execution_count": 10,
   "metadata": {},
   "outputs": [
    {
     "name": "stdout",
     "output_type": "stream",
     "text": [
      "0   2019-11-26 10:26:19\n",
      "Name: Dia, dtype: datetime64[ns] 0    Puebla\n",
      "Name: Ciudad, dtype: object\n",
      "0   2019-11-26 10:26:19\n",
      "Name: Dia, dtype: datetime64[ns] 0    Puebla\n",
      "Name: Ciudad, dtype: object\n"
     ]
    }
   ],
   "source": [
    "t = prepare(puebla,'Puebla') \n",
    "Puebla2 = t \n",
    "start_time = time.time()\n",
    "timer = 0\n",
    "hour = 3\n",
    "lastHour = 0\n",
    "while(timer <= hour*2):\n",
    "    timer = time.time() - start_time\n",
    "    if(int(timer) % hour == 0 and int(timer) != lastHour):\n",
    "        lastHour = int(timer) \n",
    "        pueblaNow = json.loads(requests.get('http://api.openweathermap.org/data/2.5/weather?q=Puebla,mx&APPID=90b9bba2ea05ea2f0aba69cc7d3e86d7').text)\n",
    "        t = prepare(pueblaNow,'Puebla') \n",
    "        Puebla2 = Puebla2.append(t) \n",
    "        print(t['Dia'],t['Ciudad'])\n",
    "        "
   ]
  },
  {
   "cell_type": "markdown",
   "metadata": {},
   "source": [
    "###### La siguiente funcion nos ayudara a ingresar los datos"
   ]
  },
  {
   "cell_type": "code",
   "execution_count": 11,
   "metadata": {},
   "outputs": [],
   "source": [
    "def capture2(ciudad,nombreCiudad,link):    \n",
    "    t = prepare(ciudad,nombreCiudad) \n",
    "    print(t['Dia'],t['Ciudad'])   \n",
    "    Met = t \n",
    "    start_time = time.time()\n",
    "    timer = 0\n",
    "    minute = 60\n",
    "    hour = minute * 60\n",
    "    lastHour = 0\n",
    "    while(timer <= hour*2):\n",
    "        timer = time.time() - start_time\n",
    "        if(int(timer) % hour == 0 and int(timer) != lastHour):\n",
    "            lastHour = int(timer) \n",
    "            Now = json.loads(requests.get(link).text)\n",
    "            t = prepare(Now,nombreCiudad)\n",
    "            Met.append(t, ignore_index = True) \n",
    "            print(t['Dia'],t['Ciudad'])   \n",
    "    return Met"
   ]
  },
  {
   "cell_type": "code",
   "execution_count": 12,
   "metadata": {},
   "outputs": [],
   "source": [
    "#barcelona = json.loads(requests.get('http://api.openweathermap.org/data/2.5/weather?q=Barcelona,es&APPID=90b9bba2ea05ea2f0aba69cc7d3e86d7').text)\n",
    "#Barcelona = capture(barcelona,'Barcelona','http://api.openweathermap.org/data/2.5/weather?q=Barcelona,es&APPID=90b9bba2ea05ea2f0aba69cc7d3e86d7')\n",
    "#Barcelona\n",
    "#El anterior solo fue un ejemplo"
   ]
  },
  {
   "cell_type": "markdown",
   "metadata": {},
   "source": [
    "###### La siguiente implementacion buscaba ejecutar de forma paralela la recoleccion de datos de las 10 ciudades durante 10 horas. Esto presenta dos problemas: el primero es que ejecutar la funcion fork() en python por medio de os no es posible en Windows, por lo que es pertinente la instalacion de mas componentes. El segundo yace en lo impractico que resulta ejecutar este programa, ya que requeriria su ejecucion continua en una compiutadora durante 10 horas, por lo que se recomienda buscar otra aproximacion para algo tan trivial como la recoleccion de 10 filas de datos"
   ]
  },
  {
   "cell_type": "markdown",
   "metadata": {},
   "source": [
    "def creator(n):\n",
    "    i = 1\n",
    "    while(i<n):\n",
    "        newpid = os.fork()\n",
    "        if newpid == 0:\n",
    "            return i\n",
    "        i += 1\n",
    "        print(i)\n",
    "pid = creator(10)\n",
    "def cities(pid):\n",
    "    switcher = {\n",
    "                    1: \"PueblaMet = capture(puebla,'Puebla','http://api.openweathermap.org/data/2.5/weather?q=Puebla,mx&APPID=90b9bba2ea05ea2f0aba69cc7d3e86d7')\",\n",
    "                    2: \"TolucaMaet = capture(toluca,'Toluca','http://api.openweathermap.org/data/2.5/weather?q=Toluca,mx&APPID=90b9bba2ea05ea2f0aba69cc7d3e86d7')\",\n",
    "                    3: \"MoreliaMet = capture(morelia,'Morelia','http://api.openweathermap.org/data/2.5/weather?q=Morelia,mx&APPID=90b9bba2ea05ea2f0aba69cc7d3e86d7')\",\n",
    "                    4: \"QueretaroMet = capture(queretaro,'Queretaro','http://api.openweathermap.org/data/2.5/weather?q=Queretaro,mx&APPID=90b9bba2ea05ea2f0aba69cc7d3e86d7')\",\n",
    "                    5: \"MonterreyMet = capture(monterrey,'Monterrey','http://api.openweathermap.org/data/2.5/weather?q=Monterrey,mx&APPID=90b9bba2ea05ea2f0aba69cc7d3e86d7')\",\n",
    "                    6: \"GuadalajaraMet = capture(guadalajara,'Guadalajara','http://api.openweathermap.org/data/2.5/weather?q=Guadalajara,mx&APPID=90b9bba2ea05ea2f0aba69cc7d3e86d7')\",\n",
    "                    7: \"PachucaMet = capture(pachuca,'Pachuca','http://api.openweathermap.org/data/2.5/weather?q=Pachuca,mx&APPID=90b9bba2ea05ea2f0aba69cc7d3e86d7')\",\n",
    "                    8: \"LeonMet = capture(leon,'Leon','http://api.openweathermap.org/data/2.5/weather?q=Leon,mx&APPID=90b9bba2ea05ea2f0aba69cc7d3e86d7')\",\n",
    "                    9: \"ZacatecasMet = capture(zacatecas,'Zacatecas','http://api.openweathermap.org/data/2.5/weather?q=Zacatecas,mx&APPID=90b9bba2ea05ea2f0aba69cc7d3e86d7')\",\n",
    "                    10: \"TijuanaMet = capture(tijuana,'Tijuana','http://api.openweathermap.org/data/2.5/weather?q=Tijuana,mx&APPID=90b9bba2ea05ea2f0aba69cc7d3e86d7')\"\n",
    "                }\n",
    "    return switcher.get(argument, \"Error\") \n",
    "argument\n"
   ]
  },
  {
   "cell_type": "markdown",
   "metadata": {},
   "source": [
    "###### Ahora definimos una funcion para capturar cada vez que se desee agregar informacion, acoplandola a dataframes existentes"
   ]
  },
  {
   "cell_type": "code",
   "execution_count": 13,
   "metadata": {},
   "outputs": [],
   "source": [
    "def capture(nombreCiudad,Met,link): \n",
    "    Now = json.loads(requests.get(link).text)\n",
    "    t = prepare(Now,nombreCiudad) \n",
    "    print(t['Dia'],t['Ciudad'])   \n",
    "    Met = Met.append(t, ignore_index = True) \n",
    "    return Met"
   ]
  },
  {
   "cell_type": "code",
   "execution_count": 14,
   "metadata": {},
   "outputs": [],
   "source": [
    "PueblaMet = pd.read_csv('Puebla.csv')\n",
    "TolucaMet = pd.read_csv('Toluca.csv')\n",
    "MoreliaMet = pd.read_csv('Morelia.csv')\n",
    "QueretaroMet = pd.read_csv('Queretaro.csv')\n",
    "MonterreyMet = pd.read_csv('Monterrey.csv')\n",
    "GuadalajaraMet = pd.read_csv('Guadalajara.csv')\n",
    "PachucaMet = pd.read_csv('Pachuca.csv')\n",
    "LeonMet = pd.read_csv('Leon.csv')\n",
    "ZacatecasMet = pd.read_csv('Zacatecas.csv')\n",
    "TijuanaMet = pd.read_csv('Tijuana.csv')"
   ]
  },
  {
   "cell_type": "code",
   "execution_count": 15,
   "metadata": {},
   "outputs": [],
   "source": [
    "del PueblaMet['Unnamed: 0']\n",
    "del TolucaMet['Unnamed: 0']\n",
    "del MoreliaMet['Unnamed: 0']\n",
    "del QueretaroMet['Unnamed: 0']\n",
    "del MonterreyMet['Unnamed: 0']\n",
    "del GuadalajaraMet['Unnamed: 0']\n",
    "del PachucaMet['Unnamed: 0']\n",
    "del LeonMet['Unnamed: 0']\n",
    "del ZacatecasMet['Unnamed: 0']\n",
    "del TijuanaMet['Unnamed: 0']"
   ]
  },
  {
   "cell_type": "markdown",
   "metadata": {},
   "source": [
    "###### El siguiente espacio debe ejecutarse a distintas horas, para acoplar a cada dataFrame"
   ]
  },
  {
   "cell_type": "code",
   "execution_count": 20,
   "metadata": {
    "scrolled": true
   },
   "outputs": [
    {
     "name": "stdout",
     "output_type": "stream",
     "text": [
      "0   2019-11-26 10:40:18\n",
      "Name: Dia, dtype: datetime64[ns] 0    Puebla\n",
      "Name: Ciudad, dtype: object\n",
      "0   2019-11-26 10:42:59\n",
      "Name: Dia, dtype: datetime64[ns] 0    Toluca\n",
      "Name: Ciudad, dtype: object\n",
      "0   2019-11-26 10:43:00\n",
      "Name: Dia, dtype: datetime64[ns] 0    Morelia\n",
      "Name: Ciudad, dtype: object\n",
      "0   2019-11-26 10:43:01\n",
      "Name: Dia, dtype: datetime64[ns] 0    Queretaro\n",
      "Name: Ciudad, dtype: object\n",
      "0   2019-11-26 10:40:27\n",
      "Name: Dia, dtype: datetime64[ns] 0    Monterrey\n",
      "Name: Ciudad, dtype: object\n",
      "0   2019-11-26 10:43:03\n",
      "Name: Dia, dtype: datetime64[ns] 0    Guadalajara\n",
      "Name: Ciudad, dtype: object\n",
      "0   2019-11-26 10:43:04\n",
      "Name: Dia, dtype: datetime64[ns] 0    Pachuca\n",
      "Name: Ciudad, dtype: object\n",
      "0   2019-11-26 10:39:15\n",
      "Name: Dia, dtype: datetime64[ns] 0    Leon\n",
      "Name: Ciudad, dtype: object\n",
      "0   2019-11-26 10:40:21\n",
      "Name: Dia, dtype: datetime64[ns] 0    Zacatecas\n",
      "Name: Ciudad, dtype: object\n",
      "0   2019-11-26 10:41:35\n",
      "Name: Dia, dtype: datetime64[ns] 0    Tijuana\n",
      "Name: Ciudad, dtype: object\n"
     ]
    }
   ],
   "source": [
    "PueblaMet = capture('Puebla',PueblaMet,'http://api.openweathermap.org/data/2.5/weather?q=Puebla,mx&APPID=90b9bba2ea05ea2f0aba69cc7d3e86d7')\n",
    "TolucaMet = capture('Toluca',TolucaMet,'http://api.openweathermap.org/data/2.5/weather?q=Toluca,mx&APPID=90b9bba2ea05ea2f0aba69cc7d3e86d7')\n",
    "MoreliaMet = capture('Morelia',MoreliaMet,'http://api.openweathermap.org/data/2.5/weather?q=Morelia,mx&APPID=90b9bba2ea05ea2f0aba69cc7d3e86d7')\n",
    "QueretaroMet = capture('Queretaro',QueretaroMet,'http://api.openweathermap.org/data/2.5/weather?q=Queretaro,mx&APPID=90b9bba2ea05ea2f0aba69cc7d3e86d7')\n",
    "MonterreyMet = capture('Monterrey',MonterreyMet,'http://api.openweathermap.org/data/2.5/weather?q=Monterrey,mx&APPID=90b9bba2ea05ea2f0aba69cc7d3e86d7')\n",
    "GuadalajaraMet = capture('Guadalajara',GuadalajaraMet,'http://api.openweathermap.org/data/2.5/weather?q=Guadalajara,mx&APPID=90b9bba2ea05ea2f0aba69cc7d3e86d7')\n",
    "PachucaMet = capture('Pachuca',PachucaMet,'http://api.openweathermap.org/data/2.5/weather?q=Pachuca,mx&APPID=90b9bba2ea05ea2f0aba69cc7d3e86d7')\n",
    "LeonMet = capture('Leon',LeonMet,'http://api.openweathermap.org/data/2.5/weather?q=Leon,mx&APPID=90b9bba2ea05ea2f0aba69cc7d3e86d7')\n",
    "ZacatecasMet = capture('Zacatecas',ZacatecasMet,'http://api.openweathermap.org/data/2.5/weather?q=Zacatecas,mx&APPID=90b9bba2ea05ea2f0aba69cc7d3e86d7')\n",
    "TijuanaMet = capture('Tijuana',TijuanaMet,'http://api.openweathermap.org/data/2.5/weather?q=Tijuana,mx&APPID=90b9bba2ea05ea2f0aba69cc7d3e86d7')\n",
    " "
   ]
  },
  {
   "cell_type": "code",
   "execution_count": 22,
   "metadata": {},
   "outputs": [],
   "source": [
    "PueblaMet.to_csv('Puebla.csv')\n",
    "TolucaMet.to_csv('Toluca.csv')\n",
    "MoreliaMet.to_csv('Morelia.csv')\n",
    "QueretaroMet.to_csv('Queretaro.csv')\n",
    "MonterreyMet.to_csv('Monterrey.csv')\n",
    "GuadalajaraMet.to_csv('Guadalajara.csv')\n",
    "PachucaMet.to_csv('Pachuca.csv')\n",
    "LeonMet.to_csv('Leon.csv')\n",
    "ZacatecasMet.to_csv('Zacatecas.csv')\n",
    "TijuanaMet.to_csv('Tijuana.csv')"
   ]
  },
  {
   "cell_type": "code",
   "execution_count": 24,
   "metadata": {},
   "outputs": [
    {
     "data": {
      "text/html": [
       "<div>\n",
       "<style scoped>\n",
       "    .dataframe tbody tr th:only-of-type {\n",
       "        vertical-align: middle;\n",
       "    }\n",
       "\n",
       "    .dataframe tbody tr th {\n",
       "        vertical-align: top;\n",
       "    }\n",
       "\n",
       "    .dataframe thead th {\n",
       "        text-align: right;\n",
       "    }\n",
       "</style>\n",
       "<table border=\"1\" class=\"dataframe\">\n",
       "  <thead>\n",
       "    <tr style=\"text-align: right;\">\n",
       "      <th></th>\n",
       "      <th>Temperatura</th>\n",
       "      <th>Humedad</th>\n",
       "      <th>Presion</th>\n",
       "      <th>Descripcion</th>\n",
       "      <th>dt</th>\n",
       "      <th>Velocidad viento</th>\n",
       "      <th>Grados viento</th>\n",
       "      <th>Ciudad</th>\n",
       "      <th>Dia</th>\n",
       "    </tr>\n",
       "  </thead>\n",
       "  <tbody>\n",
       "    <tr>\n",
       "      <th>0</th>\n",
       "      <td>15</td>\n",
       "      <td>82</td>\n",
       "      <td>1022</td>\n",
       "      <td>scattered clouds</td>\n",
       "      <td>1574732261</td>\n",
       "      <td>4.1</td>\n",
       "      <td>190</td>\n",
       "      <td>Puebla</td>\n",
       "      <td>2019-11-25 19:37:41</td>\n",
       "    </tr>\n",
       "    <tr>\n",
       "      <th>1</th>\n",
       "      <td>13</td>\n",
       "      <td>87</td>\n",
       "      <td>1023</td>\n",
       "      <td>scattered clouds</td>\n",
       "      <td>1574736536</td>\n",
       "      <td>2.6</td>\n",
       "      <td>170</td>\n",
       "      <td>Puebla</td>\n",
       "      <td>2019-11-25 20:48:56</td>\n",
       "    </tr>\n",
       "    <tr>\n",
       "      <th>2</th>\n",
       "      <td>14.03</td>\n",
       "      <td>83</td>\n",
       "      <td>1014</td>\n",
       "      <td>clear sky</td>\n",
       "      <td>1574739418</td>\n",
       "      <td>0.71</td>\n",
       "      <td>359</td>\n",
       "      <td>Puebla</td>\n",
       "      <td>2019-11-25 21:36:58</td>\n",
       "    </tr>\n",
       "    <tr>\n",
       "      <th>3</th>\n",
       "      <td>14.03</td>\n",
       "      <td>83</td>\n",
       "      <td>1014</td>\n",
       "      <td>clear sky</td>\n",
       "      <td>1574740953</td>\n",
       "      <td>0.71</td>\n",
       "      <td>359</td>\n",
       "      <td>Puebla</td>\n",
       "      <td>2019-11-25 22:02:33</td>\n",
       "    </tr>\n",
       "    <tr>\n",
       "      <th>4</th>\n",
       "      <td>13.13</td>\n",
       "      <td>87</td>\n",
       "      <td>1013</td>\n",
       "      <td>few clouds</td>\n",
       "      <td>1574743175</td>\n",
       "      <td>0.44</td>\n",
       "      <td>296</td>\n",
       "      <td>Puebla</td>\n",
       "      <td>2019-11-25 22:39:35</td>\n",
       "    </tr>\n",
       "    <tr>\n",
       "      <th>5</th>\n",
       "      <td>13.13</td>\n",
       "      <td>87</td>\n",
       "      <td>1013</td>\n",
       "      <td>few clouds</td>\n",
       "      <td>1574744600</td>\n",
       "      <td>0.44</td>\n",
       "      <td>296</td>\n",
       "      <td>Puebla</td>\n",
       "      <td>2019-11-25 23:03:20</td>\n",
       "    </tr>\n",
       "    <tr>\n",
       "      <th>6</th>\n",
       "      <td>13.13</td>\n",
       "      <td>87</td>\n",
       "      <td>1013</td>\n",
       "      <td>few clouds</td>\n",
       "      <td>1574746337</td>\n",
       "      <td>0.44</td>\n",
       "      <td>296</td>\n",
       "      <td>Puebla</td>\n",
       "      <td>2019-11-25 23:32:17</td>\n",
       "    </tr>\n",
       "    <tr>\n",
       "      <th>7</th>\n",
       "      <td>13.13</td>\n",
       "      <td>87</td>\n",
       "      <td>1013</td>\n",
       "      <td>few clouds</td>\n",
       "      <td>1574747615</td>\n",
       "      <td>0.44</td>\n",
       "      <td>296</td>\n",
       "      <td>Puebla</td>\n",
       "      <td>2019-11-25 23:53:35</td>\n",
       "    </tr>\n",
       "    <tr>\n",
       "      <th>8</th>\n",
       "      <td>13.13</td>\n",
       "      <td>87</td>\n",
       "      <td>1013</td>\n",
       "      <td>few clouds</td>\n",
       "      <td>1574749337</td>\n",
       "      <td>0.44</td>\n",
       "      <td>296</td>\n",
       "      <td>Puebla</td>\n",
       "      <td>2019-11-26 00:22:17</td>\n",
       "    </tr>\n",
       "    <tr>\n",
       "      <th>9</th>\n",
       "      <td>10.99</td>\n",
       "      <td>92</td>\n",
       "      <td>1013</td>\n",
       "      <td>clear sky</td>\n",
       "      <td>1574773508</td>\n",
       "      <td>0.71</td>\n",
       "      <td>11</td>\n",
       "      <td>Puebla</td>\n",
       "      <td>2019-11-26 07:05:08</td>\n",
       "    </tr>\n",
       "    <tr>\n",
       "      <th>10</th>\n",
       "      <td>10.99</td>\n",
       "      <td>92</td>\n",
       "      <td>1013</td>\n",
       "      <td>clear sky</td>\n",
       "      <td>1574774956</td>\n",
       "      <td>0.71</td>\n",
       "      <td>11</td>\n",
       "      <td>Puebla</td>\n",
       "      <td>2019-11-26 07:29:16</td>\n",
       "    </tr>\n",
       "    <tr>\n",
       "      <th>11</th>\n",
       "      <td>15</td>\n",
       "      <td>75</td>\n",
       "      <td>1014</td>\n",
       "      <td>clear sky</td>\n",
       "      <td>1574777177</td>\n",
       "      <td>1.45</td>\n",
       "      <td>199</td>\n",
       "      <td>Puebla</td>\n",
       "      <td>2019-11-26 08:06:17</td>\n",
       "    </tr>\n",
       "    <tr>\n",
       "      <th>12</th>\n",
       "      <td>12</td>\n",
       "      <td>81</td>\n",
       "      <td>1024</td>\n",
       "      <td>overcast clouds</td>\n",
       "      <td>1574778853</td>\n",
       "      <td>2.1</td>\n",
       "      <td>330</td>\n",
       "      <td>Puebla</td>\n",
       "      <td>2019-11-26 08:34:13</td>\n",
       "    </tr>\n",
       "    <tr>\n",
       "      <th>13</th>\n",
       "      <td>18</td>\n",
       "      <td>59</td>\n",
       "      <td>1025</td>\n",
       "      <td>broken clouds</td>\n",
       "      <td>1574785579</td>\n",
       "      <td>1.45</td>\n",
       "      <td>199</td>\n",
       "      <td>Puebla</td>\n",
       "      <td>2019-11-26 10:26:19</td>\n",
       "    </tr>\n",
       "    <tr>\n",
       "      <th>14</th>\n",
       "      <td>18</td>\n",
       "      <td>59</td>\n",
       "      <td>1025</td>\n",
       "      <td>broken clouds</td>\n",
       "      <td>1574786418</td>\n",
       "      <td>3.67</td>\n",
       "      <td>204</td>\n",
       "      <td>Puebla</td>\n",
       "      <td>2019-11-26 10:40:18</td>\n",
       "    </tr>\n",
       "  </tbody>\n",
       "</table>\n",
       "</div>"
      ],
      "text/plain": [
       "   Temperatura Humedad Presion       Descripcion          dt Velocidad viento  \\\n",
       "0           15      82    1022  scattered clouds  1574732261              4.1   \n",
       "1           13      87    1023  scattered clouds  1574736536              2.6   \n",
       "2        14.03      83    1014         clear sky  1574739418             0.71   \n",
       "3        14.03      83    1014         clear sky  1574740953             0.71   \n",
       "4        13.13      87    1013        few clouds  1574743175             0.44   \n",
       "5        13.13      87    1013        few clouds  1574744600             0.44   \n",
       "6        13.13      87    1013        few clouds  1574746337             0.44   \n",
       "7        13.13      87    1013        few clouds  1574747615             0.44   \n",
       "8        13.13      87    1013        few clouds  1574749337             0.44   \n",
       "9        10.99      92    1013         clear sky  1574773508             0.71   \n",
       "10       10.99      92    1013         clear sky  1574774956             0.71   \n",
       "11          15      75    1014         clear sky  1574777177             1.45   \n",
       "12          12      81    1024   overcast clouds  1574778853              2.1   \n",
       "13          18      59    1025     broken clouds  1574785579             1.45   \n",
       "14          18      59    1025     broken clouds  1574786418             3.67   \n",
       "\n",
       "   Grados viento  Ciudad                  Dia  \n",
       "0            190  Puebla  2019-11-25 19:37:41  \n",
       "1            170  Puebla  2019-11-25 20:48:56  \n",
       "2            359  Puebla  2019-11-25 21:36:58  \n",
       "3            359  Puebla  2019-11-25 22:02:33  \n",
       "4            296  Puebla  2019-11-25 22:39:35  \n",
       "5            296  Puebla  2019-11-25 23:03:20  \n",
       "6            296  Puebla  2019-11-25 23:32:17  \n",
       "7            296  Puebla  2019-11-25 23:53:35  \n",
       "8            296  Puebla  2019-11-26 00:22:17  \n",
       "9             11  Puebla  2019-11-26 07:05:08  \n",
       "10            11  Puebla  2019-11-26 07:29:16  \n",
       "11           199  Puebla  2019-11-26 08:06:17  \n",
       "12           330  Puebla  2019-11-26 08:34:13  \n",
       "13           199  Puebla  2019-11-26 10:26:19  \n",
       "14           204  Puebla  2019-11-26 10:40:18  "
      ]
     },
     "execution_count": 24,
     "metadata": {},
     "output_type": "execute_result"
    }
   ],
   "source": [
    "PueblaMet"
   ]
  }
 ],
 "metadata": {
  "kernelspec": {
   "display_name": "Python 3",
   "language": "python",
   "name": "python3"
  },
  "language_info": {
   "codemirror_mode": {
    "name": "ipython",
    "version": 3
   },
   "file_extension": ".py",
   "mimetype": "text/x-python",
   "name": "python",
   "nbconvert_exporter": "python",
   "pygments_lexer": "ipython3",
   "version": "3.7.3"
  }
 },
 "nbformat": 4,
 "nbformat_minor": 2
}
